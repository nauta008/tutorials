{
 "cells": [
  {
   "cell_type": "markdown",
   "id": "78b39791-9154-409b-9f7e-f34bf47349f5",
   "metadata": {},
   "source": [
    "# R NetCDF tutorial"
   ]
  },
  {
   "cell_type": "markdown",
   "id": "4a077ec3-5b0a-458b-a693-aca1315bdf24",
   "metadata": {},
   "source": [
    "## Installation"
   ]
  },
  {
   "cell_type": "markdown",
   "id": "c943ffea-b0e9-4a31-b6f2-489d82dee75e",
   "metadata": {},
   "source": [
    "In order to work with NetCDF files we need to install the ncdf4 package in R."
   ]
  },
  {
   "cell_type": "code",
   "execution_count": 11,
   "id": "319c2f53-8e17-47dd-a6de-d5735c3462b3",
   "metadata": {},
   "outputs": [
    {
     "name": "stdout",
     "output_type": "stream",
     "text": [
      "[1] \"ncdf4 already installed.\"\n"
     ]
    }
   ],
   "source": [
    "if(! \"ncdf4\" %in% installed.packages()){\n",
    "    install.packages('ncdf4')\n",
    "} else {\n",
    "    print(\"ncdf4 already installed.\")\n",
    "}"
   ]
  },
  {
   "cell_type": "markdown",
   "id": "da2b067a-49de-4c85-a903-f7caaf8ac7e8",
   "metadata": {
    "tags": []
   },
   "source": [
    "After succesful installation, we can load the library into our working environment."
   ]
  },
  {
   "cell_type": "code",
   "execution_count": 2,
   "id": "7c2300c1-86d4-4772-ba15-df3176b84bb3",
   "metadata": {},
   "outputs": [],
   "source": [
    "library(ncdf4)"
   ]
  },
  {
   "cell_type": "code",
   "execution_count": 3,
   "id": "6054ea8d-fcf8-437c-9dad-758c129b34b7",
   "metadata": {},
   "outputs": [
    {
     "data": {
      "text/html": [
       "'C:/Users/nauta008/Data/Software/tutorials/notebooks'"
      ],
      "text/latex": [
       "'C:/Users/nauta008/Data/Software/tutorials/notebooks'"
      ],
      "text/markdown": [
       "'C:/Users/nauta008/Data/Software/tutorials/notebooks'"
      ],
      "text/plain": [
       "[1] \"C:/Users/nauta008/Data/Software/tutorials/notebooks\""
      ]
     },
     "metadata": {},
     "output_type": "display_data"
    }
   ],
   "source": []
  },
  {
   "cell_type": "code",
   "execution_count": null,
   "id": "dd244351",
   "metadata": {},
   "outputs": [],
   "source": []
  }
 ],
 "metadata": {
  "kernelspec": {
   "display_name": "R",
   "language": "R",
   "name": "ir"
  },
  "language_info": {
   "codemirror_mode": "r",
   "file_extension": ".r",
   "mimetype": "text/x-r-source",
   "name": "R",
   "pygments_lexer": "r",
   "version": "4.0.3"
  }
 },
 "nbformat": 4,
 "nbformat_minor": 5
}
