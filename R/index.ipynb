{
 "cells": [
  {
   "cell_type": "markdown",
   "id": "e5ca6239-6296-4267-a26e-c8db7bd5b76c",
   "metadata": {},
   "source": [
    "# Tutorials\n",
    "\n",
    "#"
   ]
  }
 ],
 "metadata": {
  "kernelspec": {
   "display_name": "R",
   "language": "R",
   "name": "ir"
  },
  "language_info": {
   "codemirror_mode": "r",
   "file_extension": ".r",
   "mimetype": "text/x-r-source",
   "name": "R",
   "pygments_lexer": "r",
   "version": "4.0.3"
  }
 },
 "nbformat": 4,
 "nbformat_minor": 5
}
