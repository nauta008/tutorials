{
 "cells": [
  {
   "cell_type": "markdown",
   "id": "a76cb045",
   "metadata": {},
   "source": [
    "# (PART) Get Started {-}"
   ]
  },
  {
   "cell_type": "markdown",
   "id": "0ac6c581-5ca1-4b5f-a79e-b37b9c078d0b",
   "metadata": {},
   "source": [
    "# Read NetCDF in R {#intro-read}"
   ]
  },
  {
   "cell_type": "markdown",
   "id": "e064fff2-08f5-4293-8bef-8dac4e465ba9",
   "metadata": {},
   "source": [
    "First you need to install some R packages in order to read the NetCDF data into your R environment:"
   ]
  },
  {
   "cell_type": "raw",
   "id": "0835c92a-74f6-4887-863c-72cab07790fc",
   "metadata": {},
   "source": [
    "install.packages('netcdf4')\n",
    "install.packages('netcdf4.helpers')"
   ]
  },
  {
   "cell_type": "markdown",
   "id": "098d3b7a-7813-4e4b-98aa-1b51180ce8de",
   "metadata": {},
   "source": [
    "## Explore NetCDF {#intro-read-explore}\n",
    "Now we use the R package to load an example NetCDF dataset into R. The function `nc_open` opens a data stream, but does not yet load all the data into the memory. We can use the netcdf4.helpers package to request some more information about the NetCDF dataset. For instance, we can requests the dates."
   ]
  },
  {
   "cell_type": "code",
   "execution_count": 1,
   "id": "c94339f2-0492-4377-ac6b-9546511926e6",
   "metadata": {},
   "outputs": [
    {
     "name": "stdout",
     "output_type": "stream",
     "text": [
      "Error in R_nc4_open: No such file or directory\n"
     ]
    },
    {
     "ename": "ERROR",
     "evalue": "Error in ncdf4::nc_open(\"data/OUT_EVAP_monthly_1971.nc\"): Error in nc_open trying to open file data/OUT_EVAP_monthly_1971.nc\n",
     "output_type": "error",
     "traceback": [
      "Error in ncdf4::nc_open(\"data/OUT_EVAP_monthly_1971.nc\"): Error in nc_open trying to open file data/OUT_EVAP_monthly_1971.nc\nTraceback:\n",
      "1. ncdf4::nc_open(\"data/OUT_EVAP_monthly_1971.nc\")",
      "2. stop(paste(\"Error in nc_open trying to open file\", filename))"
     ]
    }
   ],
   "source": [
    "library(ncdf4)\n",
    "library(ncdf4.helpers)\n",
    "\n",
    "nc <- ncdf4::nc_open(\"data/OUT_EVAP_monthly_1971.nc\") # or slimply use nc_open()\n",
    "datetimes <- ncdf4.helpers::nc.get.time.series(nc)\n",
    "head(datetimes)\n",
    "tail(datetimes)"
   ]
  },
  {
   "cell_type": "code",
   "execution_count": 2,
   "id": "ca90e755-0571-4b27-9481-9edbfe602fe3",
   "metadata": {},
   "outputs": [
    {
     "data": {
      "text/html": [
       "'C:/Users/nauta008/Data/Software/tutorials/jupyter/R'"
      ],
      "text/latex": [
       "'C:/Users/nauta008/Data/Software/tutorials/jupyter/R'"
      ],
      "text/markdown": [
       "'C:/Users/nauta008/Data/Software/tutorials/jupyter/R'"
      ],
      "text/plain": [
       "[1] \"C:/Users/nauta008/Data/Software/tutorials/jupyter/R\""
      ]
     },
     "metadata": {},
     "output_type": "display_data"
    }
   ],
   "source": [
    "getwd()"
   ]
  },
  {
   "cell_type": "code",
   "execution_count": null,
   "id": "f5ec3a39-799f-4cf6-b886-690ddb4eeb70",
   "metadata": {},
   "outputs": [],
   "source": []
  }
 ],
 "metadata": {
  "kernelspec": {
   "display_name": "R",
   "language": "R",
   "name": "ir"
  },
  "language_info": {
   "codemirror_mode": "r",
   "file_extension": ".r",
   "mimetype": "text/x-r-source",
   "name": "R",
   "pygments_lexer": "r",
   "version": "3.5.1"
  },
  "toc-autonumbering": true,
  "toc-showmarkdowntxt": false
 },
 "nbformat": 4,
 "nbformat_minor": 5
}
