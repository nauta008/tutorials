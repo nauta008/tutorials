{
 "cells": [
  {
   "cell_type": "markdown",
   "id": "0e4a6e29",
   "metadata": {},
   "source": [
    "# R NetCDF"
   ]
  },
  {
   "cell_type": "code",
   "execution_count": 2,
   "id": "f7bc66e6",
   "metadata": {},
   "outputs": [],
   "source": [
    "library(ncdf4)"
   ]
  },
  {
   "cell_type": "code",
   "execution_count": null,
   "id": "c965f84b",
   "metadata": {},
   "outputs": [],
   "source": []
  }
 ],
 "metadata": {
  "kernelspec": {
   "display_name": "R",
   "language": "R",
   "name": "ir"
  },
  "language_info": {
   "codemirror_mode": "r",
   "file_extension": ".r",
   "mimetype": "text/x-r-source",
   "name": "R",
   "pygments_lexer": "r",
   "version": "4.0.3"
  }
 },
 "nbformat": 4,
 "nbformat_minor": 5
}
